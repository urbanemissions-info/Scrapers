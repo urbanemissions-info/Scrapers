{
 "cells": [
  {
   "cell_type": "code",
   "execution_count": 3,
   "id": "a6e2b071-6568-4a96-965b-e628fd4b910b",
   "metadata": {},
   "outputs": [],
   "source": [
    "from selenium import webdriver\n",
    "from selenium.webdriver.common.by import By\n",
    "from selenium.webdriver.firefox.options import Options\n",
    "import numpy as np\n",
    "import time"
   ]
  },
  {
   "cell_type": "code",
   "execution_count": 4,
   "id": "117e2188-effb-4b2c-9bcf-61d6498c26d1",
   "metadata": {},
   "outputs": [],
   "source": [
    "# Set Firefox options\n",
    "firefox_options = Options()\n",
    "\n",
    "# Set the default downloads folder\n",
    "firefox_options.set_preference(\"browser.download.dir\", r\"C:\\Users\\dskcy\\UEInfo\\Scrapers\\Agra\")\n",
    "firefox_options.set_preference(\"browser.download.folderList\", 2) # 0 - desktop, 1 - default, 2 - custom"
   ]
  },
  {
   "cell_type": "code",
   "execution_count": 5,
   "id": "3b7d94ef-4303-4db3-9f08-fd06da31e6c8",
   "metadata": {},
   "outputs": [],
   "source": [
    "url = 'https://weatherspark.com/y/109596/Average-Weather-in-Agra-India-Year-Round'\n",
    "driver = webdriver.Firefox(options=firefox_options)\n",
    "# navigate to the desired website\n",
    "driver.get(url)"
   ]
  },
  {
   "cell_type": "code",
   "execution_count": 6,
   "id": "5b25739c-61aa-4f8e-88c4-1ebb126bc3e8",
   "metadata": {},
   "outputs": [],
   "source": [
    "drop_downelement = driver.find_elements(By.CLASS_NAME, 'dropdown-toggle')[0]\n",
    "drop_downelement.click()"
   ]
  },
  {
   "cell_type": "code",
   "execution_count": 7,
   "id": "9f79f0f6-7236-4bf1-97be-ba405bfcbd12",
   "metadata": {},
   "outputs": [],
   "source": [
    "drop_down_menu = driver.find_elements(By.CLASS_NAME, 'dropdown-menu-right')"
   ]
  },
  {
   "cell_type": "code",
   "execution_count": 8,
   "id": "4230b535-5137-409a-b0da-cf4792652482",
   "metadata": {},
   "outputs": [],
   "source": [
    "#Choose centigrade, kph units\n",
    "driver.find_element(By.XPATH, '/html/body/div[2]/div[1]/div/div[4]/div[1]/div/ul/li[5]/a').click()"
   ]
  },
  {
   "cell_type": "code",
   "execution_count": 9,
   "id": "ded73f46-ad9f-40b7-b396-87e462359d9f",
   "metadata": {},
   "outputs": [],
   "source": [
    "# Get all Download link elements\n",
    "elements = driver.find_elements(By.CLASS_NAME, 'Download-link')"
   ]
  },
  {
   "cell_type": "code",
   "execution_count": 13,
   "id": "0cb47e8c-8bc4-479b-bada-0123de05d509",
   "metadata": {},
   "outputs": [],
   "source": [
    "#Close ad\n",
    "driver.find_element(\"id\", \"adngin-adhesion_unit_desktop-0-adhesive-close\").click()\n",
    "driver.find_element(By.CLASS_NAME, 'cc-compliance').click()"
   ]
  },
  {
   "cell_type": "code",
   "execution_count": 14,
   "id": "f7ea02db-63c7-436f-a617-3d02c6d8005b",
   "metadata": {},
   "outputs": [],
   "source": [
    "for i in range(len(elements)):\n",
    "    elements[i].click()\n",
    "    driver.find_element(\"id\", \"Download-downloadPng\").click()\n",
    "    driver.find_element(By.XPATH, '/html/body/div[5]/div/div/div[1]/button').click()\n",
    "    time.sleep(1)\n",
    "\n",
    "# Close the WebDriver session\n",
    "driver.quit()"
   ]
  },
  {
   "cell_type": "code",
   "execution_count": null,
   "id": "0fa3b35b-922c-4bf0-b4fc-a264975464ff",
   "metadata": {},
   "outputs": [],
   "source": []
  }
 ],
 "metadata": {
  "kernelspec": {
   "display_name": "Python 3 (ipykernel)",
   "language": "python",
   "name": "python3"
  },
  "language_info": {
   "codemirror_mode": {
    "name": "ipython",
    "version": 3
   },
   "file_extension": ".py",
   "mimetype": "text/x-python",
   "name": "python",
   "nbconvert_exporter": "python",
   "pygments_lexer": "ipython3",
   "version": "3.11.7"
  }
 },
 "nbformat": 4,
 "nbformat_minor": 5
}
